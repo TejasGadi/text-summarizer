{
 "cells": [
  {
   "cell_type": "code",
   "execution_count": 1,
   "id": "c6dbb274",
   "metadata": {},
   "outputs": [
    {
     "name": "stdout",
     "output_type": "stream",
     "text": [
      "/Users/tejasgadi/Local_Disk_D/Machine_Learning_Projects/finetuning_distilbert_text_classification/research\n"
     ]
    }
   ],
   "source": [
    "import os\n",
    "!pwd"
   ]
  },
  {
   "cell_type": "code",
   "execution_count": 2,
   "id": "fa6409fd",
   "metadata": {},
   "outputs": [
    {
     "name": "stdout",
     "output_type": "stream",
     "text": [
      "/Users/tejasgadi/Local_Disk_D/Machine_Learning_Projects/finetuning_distilbert_text_classification\n"
     ]
    }
   ],
   "source": [
    "# Goto Root directory of the project\n",
    "os.chdir(\"../\")\n",
    "!pwd"
   ]
  },
  {
   "cell_type": "markdown",
   "id": "9cf1eb53",
   "metadata": {},
   "source": [
    "## Basic configuration"
   ]
  },
  {
   "cell_type": "code",
   "execution_count": 3,
   "id": "1c89658d",
   "metadata": {},
   "outputs": [],
   "source": [
    "# Data Ingestion Config Schema/Data Class\n",
    "from dataclasses import dataclass\n",
    "from pathlib import Path\n",
    "\n",
    "@dataclass\n",
    "class DataIngestionConfig:\n",
    "    root_dir: Path\n",
    "    source_url: Path\n",
    "    local_dataset_zip_file: Path\n",
    "    unzip_dir: Path"
   ]
  },
  {
   "cell_type": "code",
   "execution_count": 4,
   "id": "8c43d5b3",
   "metadata": {},
   "outputs": [],
   "source": [
    "from src.textSummarizer.constants import *\n",
    "from src.textSummarizer.utils.common import create_directories,read_yaml"
   ]
  },
  {
   "cell_type": "code",
   "execution_count": 5,
   "id": "283b6f61",
   "metadata": {},
   "outputs": [
    {
     "data": {
      "text/plain": [
       "PosixPath('config/config.yaml')"
      ]
     },
     "execution_count": 5,
     "metadata": {},
     "output_type": "execute_result"
    }
   ],
   "source": [
    "CONFIG_FILE_PATH"
   ]
  },
  {
   "cell_type": "code",
   "execution_count": 6,
   "id": "2d22cde8",
   "metadata": {},
   "outputs": [],
   "source": [
    "# Import Config Box\n",
    "from box import ConfigBox"
   ]
  },
  {
   "cell_type": "markdown",
   "id": "d74742ee",
   "metadata": {},
   "source": [
    "## Configuration updates"
   ]
  },
  {
   "cell_type": "code",
   "execution_count": 7,
   "id": "e3592141",
   "metadata": {},
   "outputs": [],
   "source": [
    "# Create Configuration Manager: This has basic information required before staring any module/components\n",
    "\n",
    "class ConfigurationManager:\n",
    "    def __init__(self, config_path = CONFIG_FILE_PATH, params_path = PARAMS_FILE_PATH):\n",
    "        self.config:ConfigBox = read_yaml(config_path)\n",
    "        self.params:ConfigBox = read_yaml(params_path)\n",
    "\n",
    "        # Create Artifacts Root dir\n",
    "        create_directories([self.config.artifacts_root])\n",
    "    \n",
    "    # Read Data Ingestion Config\n",
    "    def get_data_ingestion_config(self)->DataIngestionConfig:\n",
    "        data_config = self.config.data_ingestion\n",
    "\n",
    "        # create data root directory\n",
    "        create_directories([data_config.root_dir])\n",
    "\n",
    "\n",
    "        # This is the input that will go to the Data Ingestion c omponent\n",
    "        data_ingestion_config = DataIngestionConfig(\n",
    "            root_dir= data_config.root_dir,\n",
    "            source_url= data_config.source_url,\n",
    "            local_dataset_zip_file=data_config.local_dataset_zip_file,\n",
    "            unzip_dir=data_config.unzip_dir\n",
    "        )\n",
    "\n",
    "        return data_ingestion_config\n",
    "    \n",
    "\n",
    "\n",
    "\n"
   ]
  },
  {
   "cell_type": "markdown",
   "id": "8c8cc8d2",
   "metadata": {},
   "source": [
    "## Components\n",
    "1. Data Ingestion"
   ]
  },
  {
   "cell_type": "code",
   "execution_count": 8,
   "id": "cec2615f",
   "metadata": {},
   "outputs": [],
   "source": [
    "import os\n",
    "import urllib.request as request\n",
    "from src.textSummarizer.logging import logger\n",
    "import zipfile"
   ]
  },
  {
   "cell_type": "code",
   "execution_count": 9,
   "id": "f4d7a119",
   "metadata": {},
   "outputs": [],
   "source": [
    "\n",
    "class DataIngestion:\n",
    "    def __init__(self, config: DataIngestionConfig):\n",
    "        self.config = config\n",
    "    \n",
    "    def download_zip(self):\n",
    "        if not os.path.exists(self.config.local_dataset_zip_file):\n",
    "            filename, headers = request.urlretrieve(\n",
    "                url=self.config.source_url, \n",
    "                filename=self.config.local_dataset_zip_file\n",
    "            )\n",
    "            logger.info(\"File has been downloaded\")\n",
    "        else:\n",
    "            logger.info(\"File already exists\")\n",
    "\n",
    "    def extract_zip(self):\n",
    "        unzip_dir = self.config.unzip_dir\n",
    "        os.makedirs(unzip_dir, exist_ok=True)\n",
    "        with zipfile.ZipFile(self.config.local_dataset_zip_file, 'r') as zip_ref:\n",
    "            zip_ref.extractall(unzip_dir)"
   ]
  },
  {
   "cell_type": "code",
   "execution_count": 10,
   "id": "a53a9417",
   "metadata": {},
   "outputs": [
    {
     "name": "stdout",
     "output_type": "stream",
     "text": [
      "[2025-04-22 15:32:30,123 : INFO: common: yaml file: config/config.yaml is loaded sucessfully]\n",
      "[2025-04-22 15:32:30,124 : INFO: common: yaml file: params.yaml is loaded sucessfully]\n",
      "[2025-04-22 15:32:30,124 : INFO: common: Created directory at: artifacts]\n",
      "[2025-04-22 15:32:30,125 : INFO: common: Created directory at: artifacts/data_ingestion]\n",
      "[2025-04-22 15:32:33,468 : INFO: 245471372: File has been downloaded]\n"
     ]
    }
   ],
   "source": [
    "# Instantiate Configuration Manager\n",
    "config_manager = ConfigurationManager()\n",
    "data_ingestion_config=config_manager.get_data_ingestion_config()\n",
    "\n",
    "data_ingestion = DataIngestion(config=data_ingestion_config)\n",
    "\n",
    "data_ingestion.download_zip()\n",
    "data_ingestion.extract_zip()"
   ]
  },
  {
   "cell_type": "code",
   "execution_count": null,
   "id": "ab72195a",
   "metadata": {},
   "outputs": [],
   "source": []
  }
 ],
 "metadata": {
  "kernelspec": {
   "display_name": "venv",
   "language": "python",
   "name": "python3"
  },
  "language_info": {
   "codemirror_mode": {
    "name": "ipython",
    "version": 3
   },
   "file_extension": ".py",
   "mimetype": "text/x-python",
   "name": "python",
   "nbconvert_exporter": "python",
   "pygments_lexer": "ipython3",
   "version": "3.12.4"
  }
 },
 "nbformat": 4,
 "nbformat_minor": 5
}
